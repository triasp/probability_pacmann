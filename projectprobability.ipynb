{
 "cells": [
  {
   "cell_type": "markdown",
   "id": "5263aa26",
   "metadata": {},
   "source": [
    "# Analisis Tagihan Kesehatan pada Asuransi X"
   ]
  },
  {
   "cell_type": "markdown",
   "id": "96d91c7b",
   "metadata": {},
   "source": [
    "by Tria Sofa Purnama (#triasofa)"
   ]
  },
  {
   "cell_type": "markdown",
   "id": "88d43e10",
   "metadata": {},
   "source": [
    "## Data Description"
   ]
  },
  {
   "cell_type": "markdown",
   "id": "59c9ecaf",
   "metadata": {},
   "source": [
    "Analisis akan dilakukan pada data tagihan kesehatan yang diterima oleh setiap pengguna. Data ini berisi data personal pengguna seperti umur, gender, tempat tinggal pengguna, banyak anak tertanggung asuransi, nilai bmi, keadaan merokok atau tidaknya pengguna. Secara rinci, deskripsi setiap feature dari dataset adalah sebagai berikut:\n",
    "1. age: Age of primary beneficiary\n",
    "2. sex: Insurance contractor gender, female, male\n",
    "3. bmi: Body mass index, providing an understanding of body, weights that are relatively high or low relative to height, objective index of body weight (kg/m2) using the ratio of height to weight, ideally 18.5 to 24.9\n",
    "4. children: Number of children covered by health insurance / Number of dependents\n",
    "5. smoker: Smoking\n",
    "6. region: The beneficiary's residential area in the US, northeast, southeast, southwest, northwest.\n",
    "7. charges: Individual medical costs billed by health insurance"
   ]
  },
  {
   "cell_type": "code",
   "execution_count": 33,
   "id": "b9b7f709",
   "metadata": {},
   "outputs": [],
   "source": [
    "#Import Tools yang akan digunakan\n",
    "import matplotlib.pyplot as plt\n",
    "import pandas as pd\n",
    "import numpy as np\n",
    "import statistics as sta\n",
    "from scipy import stats"
   ]
  },
  {
   "cell_type": "code",
   "execution_count": 3,
   "id": "6b35f02a",
   "metadata": {},
   "outputs": [
    {
     "name": "stdout",
     "output_type": "stream",
     "text": [
      "      age     sex     bmi  children smoker     region      charges\n",
      "0      19  female  27.900         0    yes  southwest  16884.92400\n",
      "1      18    male  33.770         1     no  southeast   1725.55230\n",
      "2      28    male  33.000         3     no  southeast   4449.46200\n",
      "3      33    male  22.705         0     no  northwest  21984.47061\n",
      "4      32    male  28.880         0     no  northwest   3866.85520\n",
      "...   ...     ...     ...       ...    ...        ...          ...\n",
      "1333   50    male  30.970         3     no  northwest  10600.54830\n",
      "1334   18  female  31.920         0     no  northeast   2205.98080\n",
      "1335   18  female  36.850         0     no  southeast   1629.83350\n",
      "1336   21  female  25.800         0     no  southwest   2007.94500\n",
      "1337   61  female  29.070         0    yes  northwest  29141.36030\n",
      "\n",
      "[1338 rows x 7 columns]\n"
     ]
    }
   ],
   "source": [
    "#Upload Data dalam bentuk csv\n",
    "df = pd.read_csv(r'/Users/triasofa/Documents/Pacmann/Insurance.csv')\n",
    "print(df)"
   ]
  },
  {
   "cell_type": "markdown",
   "id": "610403f7",
   "metadata": {},
   "source": [
    "## Langkah 1 - Analisa Descriptive Statistic"
   ]
  },
  {
   "cell_type": "markdown",
   "id": "ab0976bd",
   "metadata": {},
   "source": [
    "1. Rata-rata usia\n",
    "2. Rata-rata nilai BMI dari pengguna yang merokok?\n",
    "4. Berapa rata rata nilai BMI dari yang merokok?\n",
    "6. Apakah rata rata umur perempuan dan laki-laki yang merokok sama?\n",
    "9. BMI mana yang lebih tinggi, seseorang laki-laki atau perempuan?\n",
    "10. BMI mana yang lebih tinggi, seseorang perokok atau non perokok?"
   ]
  },
  {
   "cell_type": "code",
   "execution_count": 7,
   "id": "b2900f5b",
   "metadata": {},
   "outputs": [
    {
     "name": "stdout",
     "output_type": "stream",
     "text": [
      "Rata-rata usia:  39.20702541106129\n"
     ]
    }
   ],
   "source": [
    "print('Rata-rata usia: ', df['age'].mean())"
   ]
  },
  {
   "cell_type": "markdown",
   "id": "31f63baa",
   "metadata": {},
   "source": [
    "Berdasarkan data tagihan kesehatan, pada feature numerik rata-rata usia pengguna adalah 39 tahun."
   ]
  },
  {
   "cell_type": "code",
   "execution_count": 10,
   "id": "f91c578e",
   "metadata": {},
   "outputs": [
    {
     "name": "stdout",
     "output_type": "stream",
     "text": [
      "Rata-rata BMI yang merokok: 30.708448905109503\n"
     ]
    }
   ],
   "source": [
    "print('Rata-rata BMI yang merokok:',df[df['smoker']=='yes']['bmi'].mean())"
   ]
  },
  {
   "cell_type": "code",
   "execution_count": 13,
   "id": "9e17da55",
   "metadata": {},
   "outputs": [
    {
     "name": "stdout",
     "output_type": "stream",
     "text": [
      "Rata-rata usia:  38.51459854014598\n",
      "Usia terkecil:  18\n",
      "Usia terbesar:  64\n"
     ]
    }
   ],
   "source": [
    "print('Rata-rata usia: ', df[df['smoker']=='yes']['age'].mean())\n",
    "print('Usia terkecil: ', df[df['smoker']=='yes']['age'].min())\n",
    "print('Usia terbesar: ',df[df['smoker']=='yes']['age'].max())"
   ]
  },
  {
   "cell_type": "markdown",
   "id": "59e372ef",
   "metadata": {},
   "source": [
    "Berdasarkan output di atas, didapatkan bahwa pada kondisi merokok rata-rata usia female dan male sama. Rata-rata usia pada female yang merokok maupun male yang merokok adalah 38 tahun."
   ]
  },
  {
   "cell_type": "code",
   "execution_count": 15,
   "id": "ba692d0d",
   "metadata": {},
   "outputs": [
    {
     "data": {
      "text/html": [
       "<div>\n",
       "<style scoped>\n",
       "    .dataframe tbody tr th:only-of-type {\n",
       "        vertical-align: middle;\n",
       "    }\n",
       "\n",
       "    .dataframe tbody tr th {\n",
       "        vertical-align: top;\n",
       "    }\n",
       "\n",
       "    .dataframe thead th {\n",
       "        text-align: right;\n",
       "    }\n",
       "</style>\n",
       "<table border=\"1\" class=\"dataframe\">\n",
       "  <thead>\n",
       "    <tr style=\"text-align: right;\">\n",
       "      <th></th>\n",
       "      <th>bmi</th>\n",
       "      <th>charges</th>\n",
       "    </tr>\n",
       "    <tr>\n",
       "      <th>smoker</th>\n",
       "      <th></th>\n",
       "      <th></th>\n",
       "    </tr>\n",
       "  </thead>\n",
       "  <tbody>\n",
       "    <tr>\n",
       "      <th>no</th>\n",
       "      <td>30.651795</td>\n",
       "      <td>8434.268298</td>\n",
       "    </tr>\n",
       "    <tr>\n",
       "      <th>yes</th>\n",
       "      <td>30.708449</td>\n",
       "      <td>32050.231832</td>\n",
       "    </tr>\n",
       "  </tbody>\n",
       "</table>\n",
       "</div>"
      ],
      "text/plain": [
       "              bmi       charges\n",
       "smoker                         \n",
       "no      30.651795   8434.268298\n",
       "yes     30.708449  32050.231832"
      ]
     },
     "execution_count": 15,
     "metadata": {},
     "output_type": "execute_result"
    }
   ],
   "source": [
    "df.groupby('smoker', axis=0).mean()[['bmi','charges']]"
   ]
  },
  {
   "cell_type": "markdown",
   "id": "c10406f3",
   "metadata": {},
   "source": [
    "BMI pada pengguna yang merokok dan yang tidak merokok cenderung sama. Namun, tagihan kesehatan pada pengguna yang merokok lebih besar daripada tagihan yang tidak merokok."
   ]
  },
  {
   "cell_type": "code",
   "execution_count": 16,
   "id": "92e71eb8",
   "metadata": {},
   "outputs": [
    {
     "data": {
      "text/html": [
       "<div>\n",
       "<style scoped>\n",
       "    .dataframe tbody tr th:only-of-type {\n",
       "        vertical-align: middle;\n",
       "    }\n",
       "\n",
       "    .dataframe tbody tr th {\n",
       "        vertical-align: top;\n",
       "    }\n",
       "\n",
       "    .dataframe thead th {\n",
       "        text-align: right;\n",
       "    }\n",
       "</style>\n",
       "<table border=\"1\" class=\"dataframe\">\n",
       "  <thead>\n",
       "    <tr style=\"text-align: right;\">\n",
       "      <th></th>\n",
       "      <th>bmi</th>\n",
       "      <th>charges</th>\n",
       "    </tr>\n",
       "    <tr>\n",
       "      <th>smoker</th>\n",
       "      <th></th>\n",
       "      <th></th>\n",
       "    </tr>\n",
       "  </thead>\n",
       "  <tbody>\n",
       "    <tr>\n",
       "      <th>no</th>\n",
       "      <td>53.13</td>\n",
       "      <td>36910.60803</td>\n",
       "    </tr>\n",
       "    <tr>\n",
       "      <th>yes</th>\n",
       "      <td>52.58</td>\n",
       "      <td>63770.42801</td>\n",
       "    </tr>\n",
       "  </tbody>\n",
       "</table>\n",
       "</div>"
      ],
      "text/plain": [
       "          bmi      charges\n",
       "smoker                    \n",
       "no      53.13  36910.60803\n",
       "yes     52.58  63770.42801"
      ]
     },
     "execution_count": 16,
     "metadata": {},
     "output_type": "execute_result"
    }
   ],
   "source": [
    "df.groupby('smoker', axis=0).max()[['bmi','charges']]"
   ]
  },
  {
   "cell_type": "markdown",
   "id": "4802a57b",
   "metadata": {},
   "source": [
    "Berdasarkan nilai maksimum BMI tertinggi pada pengguna yang tidak merokok. Namun, tagihan kesehatan lebih tinggi pada pengguna yang merokok."
   ]
  },
  {
   "cell_type": "markdown",
   "id": "b2c6e9be",
   "metadata": {},
   "source": [
    "## Langkah 2 - Analisa Variabel Kategorik (PMF)"
   ]
  },
  {
   "cell_type": "markdown",
   "id": "eb531c97",
   "metadata": {},
   "source": [
    "1. Gender mana yang memiliki tagihan paling tinggi?\n",
    "2. Distribusi peluang tagihan di tiap-tiap region\n",
    "3. Apakah setiap region memiliki proporsi data banyak orang yang sama?\n",
    "4. Mana yang lebih tinggi proporsi perokok atau non perokok?\n",
    "5. Berapa peluang seseorang tersebut adalah perempuan diketahui dia adalah perokok?"
   ]
  },
  {
   "cell_type": "code",
   "execution_count": 18,
   "id": "72b236ba",
   "metadata": {},
   "outputs": [
    {
     "data": {
      "text/html": [
       "<div>\n",
       "<style scoped>\n",
       "    .dataframe tbody tr th:only-of-type {\n",
       "        vertical-align: middle;\n",
       "    }\n",
       "\n",
       "    .dataframe tbody tr th {\n",
       "        vertical-align: top;\n",
       "    }\n",
       "\n",
       "    .dataframe thead tr th {\n",
       "        text-align: left;\n",
       "    }\n",
       "\n",
       "    .dataframe thead tr:last-of-type th {\n",
       "        text-align: right;\n",
       "    }\n",
       "</style>\n",
       "<table border=\"1\" class=\"dataframe\">\n",
       "  <thead>\n",
       "    <tr>\n",
       "      <th></th>\n",
       "      <th colspan=\"2\" halign=\"left\">charges</th>\n",
       "    </tr>\n",
       "    <tr>\n",
       "      <th></th>\n",
       "      <th>mean</th>\n",
       "      <th>max</th>\n",
       "    </tr>\n",
       "    <tr>\n",
       "      <th>sex</th>\n",
       "      <th></th>\n",
       "      <th></th>\n",
       "    </tr>\n",
       "  </thead>\n",
       "  <tbody>\n",
       "    <tr>\n",
       "      <th>female</th>\n",
       "      <td>12569.578844</td>\n",
       "      <td>63770.42801</td>\n",
       "    </tr>\n",
       "    <tr>\n",
       "      <th>male</th>\n",
       "      <td>13956.751178</td>\n",
       "      <td>62592.87309</td>\n",
       "    </tr>\n",
       "  </tbody>\n",
       "</table>\n",
       "</div>"
      ],
      "text/plain": [
       "             charges             \n",
       "                mean          max\n",
       "sex                              \n",
       "female  12569.578844  63770.42801\n",
       "male    13956.751178  62592.87309"
      ]
     },
     "execution_count": 18,
     "metadata": {},
     "output_type": "execute_result"
    }
   ],
   "source": [
    "df.groupby('sex', axis=0)[['charges']].aggregate(['mean', 'max'])"
   ]
  },
  {
   "cell_type": "markdown",
   "id": "4fc3e4e1",
   "metadata": {},
   "source": [
    "Secara umum, rata-rata tagihan paling tinggi ada pada jenis kelamin male, sedangkan berdasarkan nilai maksimum jenis kelamin female memiliki tagihan paling tinggi."
   ]
  },
  {
   "cell_type": "code",
   "execution_count": 19,
   "id": "897cd025",
   "metadata": {},
   "outputs": [
    {
     "data": {
      "text/html": [
       "<div>\n",
       "<style scoped>\n",
       "    .dataframe tbody tr th:only-of-type {\n",
       "        vertical-align: middle;\n",
       "    }\n",
       "\n",
       "    .dataframe tbody tr th {\n",
       "        vertical-align: top;\n",
       "    }\n",
       "\n",
       "    .dataframe thead th {\n",
       "        text-align: right;\n",
       "    }\n",
       "</style>\n",
       "<table border=\"1\" class=\"dataframe\">\n",
       "  <thead>\n",
       "    <tr style=\"text-align: right;\">\n",
       "      <th></th>\n",
       "      <th>count</th>\n",
       "      <th>peluang</th>\n",
       "    </tr>\n",
       "    <tr>\n",
       "      <th>region</th>\n",
       "      <th></th>\n",
       "      <th></th>\n",
       "    </tr>\n",
       "  </thead>\n",
       "  <tbody>\n",
       "    <tr>\n",
       "      <th>northeast</th>\n",
       "      <td>324</td>\n",
       "      <td>0.242152</td>\n",
       "    </tr>\n",
       "    <tr>\n",
       "      <th>northwest</th>\n",
       "      <td>325</td>\n",
       "      <td>0.242900</td>\n",
       "    </tr>\n",
       "    <tr>\n",
       "      <th>southeast</th>\n",
       "      <td>364</td>\n",
       "      <td>0.272048</td>\n",
       "    </tr>\n",
       "    <tr>\n",
       "      <th>southwest</th>\n",
       "      <td>325</td>\n",
       "      <td>0.242900</td>\n",
       "    </tr>\n",
       "  </tbody>\n",
       "</table>\n",
       "</div>"
      ],
      "text/plain": [
       "           count   peluang\n",
       "region                    \n",
       "northeast    324  0.242152\n",
       "northwest    325  0.242900\n",
       "southeast    364  0.272048\n",
       "southwest    325  0.242900"
      ]
     },
     "execution_count": 19,
     "metadata": {},
     "output_type": "execute_result"
    }
   ],
   "source": [
    "df1 = df.groupby('region', axis=0)['age'].aggregate(['count'])\n",
    "df1['peluang'] = df1.transform(lambda x: x/x.sum())\n",
    "df1"
   ]
  },
  {
   "cell_type": "markdown",
   "id": "2d50a777",
   "metadata": {},
   "source": [
    "Distribusi peluang tagihan di tiap-tiap region sebagaimana pada tabel. Proporsi tertinggi berada pada region Southeast dengan proporsi/peluang 0,272."
   ]
  },
  {
   "cell_type": "code",
   "execution_count": 44,
   "id": "2a657bb9",
   "metadata": {},
   "outputs": [
    {
     "data": {
      "text/html": [
       "<div>\n",
       "<style scoped>\n",
       "    .dataframe tbody tr th:only-of-type {\n",
       "        vertical-align: middle;\n",
       "    }\n",
       "\n",
       "    .dataframe tbody tr th {\n",
       "        vertical-align: top;\n",
       "    }\n",
       "\n",
       "    .dataframe thead th {\n",
       "        text-align: right;\n",
       "    }\n",
       "</style>\n",
       "<table border=\"1\" class=\"dataframe\">\n",
       "  <thead>\n",
       "    <tr style=\"text-align: right;\">\n",
       "      <th></th>\n",
       "      <th>count</th>\n",
       "      <th>proporsi</th>\n",
       "    </tr>\n",
       "    <tr>\n",
       "      <th>smoker</th>\n",
       "      <th></th>\n",
       "      <th></th>\n",
       "    </tr>\n",
       "  </thead>\n",
       "  <tbody>\n",
       "    <tr>\n",
       "      <th>no</th>\n",
       "      <td>1064</td>\n",
       "      <td>0.795217</td>\n",
       "    </tr>\n",
       "    <tr>\n",
       "      <th>yes</th>\n",
       "      <td>274</td>\n",
       "      <td>0.204783</td>\n",
       "    </tr>\n",
       "  </tbody>\n",
       "</table>\n",
       "</div>"
      ],
      "text/plain": [
       "        count  proporsi\n",
       "smoker                 \n",
       "no       1064  0.795217\n",
       "yes       274  0.204783"
      ]
     },
     "execution_count": 44,
     "metadata": {},
     "output_type": "execute_result"
    }
   ],
   "source": [
    "df1 = df.groupby('smoker', axis=0)['age'].aggregate(['count'])\n",
    "df1['proporsi'] = df1.transform(lambda x: x/x.sum())\n",
    "df1"
   ]
  },
  {
   "cell_type": "markdown",
   "id": "cdd9e2db",
   "metadata": {},
   "source": [
    "## Langkah 3 - Analisa Variabel Kontinu"
   ]
  },
  {
   "cell_type": "markdown",
   "id": "71a69051",
   "metadata": {},
   "source": [
    "#### Mana yang lebih mungkin terjadi\n",
    "Seseorang dengan BMI di atas 25 mendapatkan tagihan kesehatan di atas 16.7k, atau\n",
    "Seseorang dengan BMI di bawah 25 mendapatkan tagihan kesehatan di atas 16.7k"
   ]
  },
  {
   "cell_type": "code",
   "execution_count": 49,
   "id": "a489f1d2",
   "metadata": {},
   "outputs": [
    {
     "name": "stderr",
     "output_type": "stream",
     "text": [
      "/var/folders/5k/vl7nr6rj76z74mwnqnqkfnwh0000gn/T/ipykernel_1695/2059959275.py:3: SettingWithCopyWarning: \n",
      "A value is trying to be set on a copy of a slice from a DataFrame.\n",
      "Try using .loc[row_indexer,col_indexer] = value instead\n",
      "\n",
      "See the caveats in the documentation: https://pandas.pydata.org/pandas-docs/stable/user_guide/indexing.html#returning-a-view-versus-a-copy\n",
      "  df1['bmi_group'] = df1['bmi'].transform(lambda x : 'BMI>25' if x > 25 else 'BMI<=25')\n"
     ]
    },
    {
     "data": {
      "text/html": [
       "<div>\n",
       "<style scoped>\n",
       "    .dataframe tbody tr th:only-of-type {\n",
       "        vertical-align: middle;\n",
       "    }\n",
       "\n",
       "    .dataframe tbody tr th {\n",
       "        vertical-align: top;\n",
       "    }\n",
       "\n",
       "    .dataframe thead th {\n",
       "        text-align: right;\n",
       "    }\n",
       "</style>\n",
       "<table border=\"1\" class=\"dataframe\">\n",
       "  <thead>\n",
       "    <tr style=\"text-align: right;\">\n",
       "      <th></th>\n",
       "      <th>count</th>\n",
       "      <th>peluang</th>\n",
       "    </tr>\n",
       "    <tr>\n",
       "      <th>bmi_group</th>\n",
       "      <th></th>\n",
       "      <th></th>\n",
       "    </tr>\n",
       "  </thead>\n",
       "  <tbody>\n",
       "    <tr>\n",
       "      <th>BMI&lt;=25</th>\n",
       "      <td>51</td>\n",
       "      <td>0.152695</td>\n",
       "    </tr>\n",
       "    <tr>\n",
       "      <th>BMI&gt;25</th>\n",
       "      <td>283</td>\n",
       "      <td>0.847305</td>\n",
       "    </tr>\n",
       "  </tbody>\n",
       "</table>\n",
       "</div>"
      ],
      "text/plain": [
       "           count   peluang\n",
       "bmi_group                 \n",
       "BMI<=25       51  0.152695\n",
       "BMI>25       283  0.847305"
      ]
     },
     "execution_count": 49,
     "metadata": {},
     "output_type": "execute_result"
    }
   ],
   "source": [
    "# Tagihan di atas 16.7K berdasarkan BMI\n",
    "df1 = df[df['charges']>16700]\n",
    "df1['bmi_group'] = df1['bmi'].transform(lambda x : 'BMI>25' if x > 25 else 'BMI<=25')\n",
    "df1 = df1.groupby('bmi_group', axis=0)['age'].aggregate(['count'])\n",
    "df1['peluang'] = df1.transform(lambda x: x/x.sum())\n",
    "df1"
   ]
  },
  {
   "cell_type": "markdown",
   "id": "5b5fa3b4",
   "metadata": {},
   "source": [
    "Seseorang dengan BMI di atas 25 mendapatkan tagihan kesehatan di atas 16.7k memiliki peluang lebih tinggi dibandingkan eseorang dengan BMI di bawah 25 mendapatkan tagihan kesehatan di atas 16.7k."
   ]
  },
  {
   "cell_type": "markdown",
   "id": "90e1ba40",
   "metadata": {},
   "source": [
    "#### Mana yang lebih mungkin terjadi\n",
    "\n",
    "Seseorang pengguna yang merokok dengan BMI di atas 25 mendapatkan tagihan kesehatan di atas 16.7k, atau\n",
    "Seseorang pengguna yang tidak merokok dengan BMI di atas 25 mendapatkan tagihan kesehatan di atas 16.7k"
   ]
  },
  {
   "cell_type": "code",
   "execution_count": 52,
   "id": "f0cb99de",
   "metadata": {},
   "outputs": [
    {
     "name": "stderr",
     "output_type": "stream",
     "text": [
      "/var/folders/5k/vl7nr6rj76z74mwnqnqkfnwh0000gn/T/ipykernel_1695/2069963834.py:3: SettingWithCopyWarning: \n",
      "A value is trying to be set on a copy of a slice from a DataFrame.\n",
      "Try using .loc[row_indexer,col_indexer] = value instead\n",
      "\n",
      "See the caveats in the documentation: https://pandas.pydata.org/pandas-docs/stable/user_guide/indexing.html#returning-a-view-versus-a-copy\n",
      "  df1['status'] = df1['smoker'].transform(lambda x : 'Perokok' if x == 'yes' else 'Non Perokok')\n"
     ]
    },
    {
     "data": {
      "text/html": [
       "<div>\n",
       "<style scoped>\n",
       "    .dataframe tbody tr th:only-of-type {\n",
       "        vertical-align: middle;\n",
       "    }\n",
       "\n",
       "    .dataframe tbody tr th {\n",
       "        vertical-align: top;\n",
       "    }\n",
       "\n",
       "    .dataframe thead th {\n",
       "        text-align: right;\n",
       "    }\n",
       "</style>\n",
       "<table border=\"1\" class=\"dataframe\">\n",
       "  <thead>\n",
       "    <tr style=\"text-align: right;\">\n",
       "      <th></th>\n",
       "      <th>count</th>\n",
       "      <th>peluang</th>\n",
       "    </tr>\n",
       "    <tr>\n",
       "      <th>status</th>\n",
       "      <th></th>\n",
       "      <th></th>\n",
       "    </tr>\n",
       "  </thead>\n",
       "  <tbody>\n",
       "    <tr>\n",
       "      <th>Non Perokok</th>\n",
       "      <td>68</td>\n",
       "      <td>0.240283</td>\n",
       "    </tr>\n",
       "    <tr>\n",
       "      <th>Perokok</th>\n",
       "      <td>215</td>\n",
       "      <td>0.759717</td>\n",
       "    </tr>\n",
       "  </tbody>\n",
       "</table>\n",
       "</div>"
      ],
      "text/plain": [
       "             count   peluang\n",
       "status                      \n",
       "Non Perokok     68  0.240283\n",
       "Perokok        215  0.759717"
      ]
     },
     "execution_count": 52,
     "metadata": {},
     "output_type": "execute_result"
    }
   ],
   "source": [
    "# Perokok dan non perokok dengan BMI di atas 25\n",
    "df1 = df[(df['bmi']>25) & (df['charges']>16700)]\n",
    "df1['status'] = df1['smoker'].transform(lambda x : 'Perokok' if x == 'yes' else 'Non Perokok')\n",
    "df1 = df1.groupby('status', axis=0)['age'].aggregate(['count'])\n",
    "df1['peluang'] = df1.transform(lambda x: x/x.sum())\n",
    "df1"
   ]
  },
  {
   "cell_type": "markdown",
   "id": "a623ebc8",
   "metadata": {},
   "source": [
    "Seseorang pengguna yang merokok dengan BMI di atas 25 mendapatkan tagihan kesehatan di atas 16.7k memiliki peluang yang lebih besar daripada Seseorang pengguna yang tidak merokok dengan BMI di atas 25 mendapatkan tagihan kesehatan di atas 16.7k."
   ]
  },
  {
   "cell_type": "code",
   "execution_count": 24,
   "id": "4f3e7493",
   "metadata": {},
   "outputs": [
    {
     "name": "stderr",
     "output_type": "stream",
     "text": [
      "/var/folders/5k/vl7nr6rj76z74mwnqnqkfnwh0000gn/T/ipykernel_1695/2069963834.py:3: SettingWithCopyWarning: \n",
      "A value is trying to be set on a copy of a slice from a DataFrame.\n",
      "Try using .loc[row_indexer,col_indexer] = value instead\n",
      "\n",
      "See the caveats in the documentation: https://pandas.pydata.org/pandas-docs/stable/user_guide/indexing.html#returning-a-view-versus-a-copy\n",
      "  df1['status'] = df1['smoker'].transform(lambda x : 'Perokok' if x == 'yes' else 'Non Perokok')\n"
     ]
    },
    {
     "data": {
      "text/html": [
       "<div>\n",
       "<style scoped>\n",
       "    .dataframe tbody tr th:only-of-type {\n",
       "        vertical-align: middle;\n",
       "    }\n",
       "\n",
       "    .dataframe tbody tr th {\n",
       "        vertical-align: top;\n",
       "    }\n",
       "\n",
       "    .dataframe thead th {\n",
       "        text-align: right;\n",
       "    }\n",
       "</style>\n",
       "<table border=\"1\" class=\"dataframe\">\n",
       "  <thead>\n",
       "    <tr style=\"text-align: right;\">\n",
       "      <th></th>\n",
       "      <th>count</th>\n",
       "      <th>peluang</th>\n",
       "    </tr>\n",
       "    <tr>\n",
       "      <th>status</th>\n",
       "      <th></th>\n",
       "      <th></th>\n",
       "    </tr>\n",
       "  </thead>\n",
       "  <tbody>\n",
       "    <tr>\n",
       "      <th>Non Perokok</th>\n",
       "      <td>68</td>\n",
       "      <td>0.240283</td>\n",
       "    </tr>\n",
       "    <tr>\n",
       "      <th>Perokok</th>\n",
       "      <td>215</td>\n",
       "      <td>0.759717</td>\n",
       "    </tr>\n",
       "  </tbody>\n",
       "</table>\n",
       "</div>"
      ],
      "text/plain": [
       "             count   peluang\n",
       "status                      \n",
       "Non Perokok     68  0.240283\n",
       "Perokok        215  0.759717"
      ]
     },
     "execution_count": 24,
     "metadata": {},
     "output_type": "execute_result"
    }
   ],
   "source": [
    "# Perokok dan non perokok dengan BMI di atas 25\n",
    "df1 = df[(df['bmi']>25) & (df['charges']>16700)]\n",
    "df1['status'] = df1['smoker'].transform(lambda x : 'Perokok' if x == 'yes' else 'Non Perokok')\n",
    "df1 = df1.groupby('status', axis=0)['age'].aggregate(['count'])\n",
    "df1['peluang'] = df1.transform(lambda x: x/x.sum())\n",
    "df1"
   ]
  },
  {
   "cell_type": "markdown",
   "id": "6754593e",
   "metadata": {},
   "source": [
    "### Langkah 4 - Analisis Korelasi"
   ]
  },
  {
   "cell_type": "code",
   "execution_count": 26,
   "id": "2bd1affe",
   "metadata": {},
   "outputs": [
    {
     "data": {
      "text/html": [
       "<div>\n",
       "<style scoped>\n",
       "    .dataframe tbody tr th:only-of-type {\n",
       "        vertical-align: middle;\n",
       "    }\n",
       "\n",
       "    .dataframe tbody tr th {\n",
       "        vertical-align: top;\n",
       "    }\n",
       "\n",
       "    .dataframe thead th {\n",
       "        text-align: right;\n",
       "    }\n",
       "</style>\n",
       "<table border=\"1\" class=\"dataframe\">\n",
       "  <thead>\n",
       "    <tr style=\"text-align: right;\">\n",
       "      <th></th>\n",
       "      <th>age</th>\n",
       "      <th>bmi</th>\n",
       "      <th>children</th>\n",
       "      <th>charges</th>\n",
       "    </tr>\n",
       "  </thead>\n",
       "  <tbody>\n",
       "    <tr>\n",
       "      <th>age</th>\n",
       "      <td>1.000000</td>\n",
       "      <td>0.109272</td>\n",
       "      <td>0.042469</td>\n",
       "      <td>0.299008</td>\n",
       "    </tr>\n",
       "    <tr>\n",
       "      <th>bmi</th>\n",
       "      <td>0.109272</td>\n",
       "      <td>1.000000</td>\n",
       "      <td>0.012759</td>\n",
       "      <td>0.198341</td>\n",
       "    </tr>\n",
       "    <tr>\n",
       "      <th>children</th>\n",
       "      <td>0.042469</td>\n",
       "      <td>0.012759</td>\n",
       "      <td>1.000000</td>\n",
       "      <td>0.067998</td>\n",
       "    </tr>\n",
       "    <tr>\n",
       "      <th>charges</th>\n",
       "      <td>0.299008</td>\n",
       "      <td>0.198341</td>\n",
       "      <td>0.067998</td>\n",
       "      <td>1.000000</td>\n",
       "    </tr>\n",
       "  </tbody>\n",
       "</table>\n",
       "</div>"
      ],
      "text/plain": [
       "               age       bmi  children   charges\n",
       "age       1.000000  0.109272  0.042469  0.299008\n",
       "bmi       0.109272  1.000000  0.012759  0.198341\n",
       "children  0.042469  0.012759  1.000000  0.067998\n",
       "charges   0.299008  0.198341  0.067998  1.000000"
      ]
     },
     "execution_count": 26,
     "metadata": {},
     "output_type": "execute_result"
    }
   ],
   "source": [
    "df[['age','bmi','children','charges']].corr()"
   ]
  },
  {
   "cell_type": "markdown",
   "id": "bc73b2db",
   "metadata": {},
   "source": [
    "Pada tabel di atas menunjukkan korelasi antara feature charges dengan feature age, bmi, dan children. Dari tabel di atas dapat diambil kesimpulan sebagai berikut:\n",
    "1. age memiliki korelasi lemah dan positif terhadap charges\n",
    "2. bmi memiliki korelasi lemah dan positif terhadap charges\n",
    "3. children memiliki korelasi lemah dan positif terhadap charges"
   ]
  },
  {
   "cell_type": "markdown",
   "id": "57c11849",
   "metadata": {},
   "source": [
    "### Langkah 5 - Pengujian Hipotesis"
   ]
  },
  {
   "cell_type": "code",
   "execution_count": 53,
   "id": "eff06fc0",
   "metadata": {},
   "outputs": [
    {
     "name": "stdout",
     "output_type": "stream",
     "text": [
      "Statistik:  46.66492117272371\n",
      "p-value:  8.271435842179102e-283\n"
     ]
    }
   ],
   "source": [
    "alpha = 0.05\n",
    "H0 = \"Tagihan kesehatan pengguna yang merokok = tagihan kesehatan pengguna yang tidak merokok\"\n",
    "H1 = \"Tagihan kesehatan pengguna yang merokok lebih tinggi dari pengguna yang tidak merokok\"\n",
    "\n",
    "stat, p = stats.ttest_ind(df[df['smoker']=='yes']['charges'], df[df['smoker']=='no']['charges'])\n",
    "print('Statistik: ', stat)\n",
    "print('p-value: ', p)"
   ]
  },
  {
   "cell_type": "code",
   "execution_count": 54,
   "id": "041d8283",
   "metadata": {},
   "outputs": [
    {
     "name": "stdout",
     "output_type": "stream",
     "text": [
      "H0 ditolak H1 diterima, yaitu:  Tagihan kesehatan pengguna yang merokok lebih tinggi dari pengguna yang tidak merokok\n"
     ]
    }
   ],
   "source": [
    "# Pengambilan keputusan\n",
    "if p>alpha:\n",
    "    print(\"HO diterima, yaitu: \", H0)\n",
    "else:\n",
    "    print(\"H0 ditolak H1 diterima, yaitu: \", H1)"
   ]
  },
  {
   "cell_type": "code",
   "execution_count": 41,
   "id": "64354576",
   "metadata": {},
   "outputs": [
    {
     "name": "stdout",
     "output_type": "stream",
     "text": [
      "Statistik:  4.319946909530397\n",
      "p-value:  1.6761321969419405e-05\n"
     ]
    }
   ],
   "source": [
    "H0 = \"Tagihan kesehatan dengan BMI di atas 25 = tagihan kesehatan dengan BMI di bawah 25\"\n",
    "H1 = \"Tagihan kesehatan dengan BMI di atas 25 lebih tinggi daripada tagihan kesehatan dengan BMI di bawah 25\"\n",
    "\n",
    "stat, p = stats.ttest_ind(df[df['bmi']>25]['charges'], df[df['bmi']<=25]['charges'])\n",
    "print('Statistik: ', stat)\n",
    "print('p-value: ', p)"
   ]
  },
  {
   "cell_type": "code",
   "execution_count": 42,
   "id": "32007817",
   "metadata": {},
   "outputs": [
    {
     "name": "stdout",
     "output_type": "stream",
     "text": [
      "H0 ditolak H1 diterima, yaitu:  Tagihan kesehatan dengan BMI di atas 25 lebih tinggi daripada tagihan kesehatan dengan BMI di bawah 25\n"
     ]
    }
   ],
   "source": [
    "# Pengambilan keputusan\n",
    "if p>alpha:\n",
    "    print(\"HO diterima, yaitu: \", H0)\n",
    "else:\n",
    "    print(\"H0 ditolak H1 diterima, yaitu: \", H1)"
   ]
  },
  {
   "cell_type": "code",
   "execution_count": 43,
   "id": "7366837f",
   "metadata": {},
   "outputs": [
    {
     "name": "stdout",
     "output_type": "stream",
     "text": [
      "Statistik:  2.097546590051688\n",
      "p-value:  0.03613272100592976\n"
     ]
    }
   ],
   "source": [
    "H0 = \"Tagihan kesehatan laki-laki = tagihan kesehatan perempuan\"\n",
    "H1 = \"Tagihan kesehatan laki-laki lebih besar dari tagihan kesehatan perempuan\"\n",
    "\n",
    "stat, p = stats.ttest_ind(df[df['sex']=='male']['charges'], df[df['sex']=='female']['charges'])\n",
    "print('Statistik: ', stat)\n",
    "print('p-value: ', p)"
   ]
  },
  {
   "cell_type": "code",
   "execution_count": 40,
   "id": "628ee658",
   "metadata": {},
   "outputs": [
    {
     "name": "stdout",
     "output_type": "stream",
     "text": [
      "H0 ditolak H1 diterima, yaitu:  Tagihan kesehatan laki-laki lebih besar dari tagihan kesehatan perempuan\n"
     ]
    }
   ],
   "source": [
    "if p>alpha:\n",
    "    print(\"HO diterima, yaitu: \", H0)\n",
    "else:\n",
    "    print(\"H0 ditolak H1 diterima, yaitu: \", H1)"
   ]
  },
  {
   "cell_type": "code",
   "execution_count": null,
   "id": "f3a04e14",
   "metadata": {},
   "outputs": [],
   "source": []
  }
 ],
 "metadata": {
  "kernelspec": {
   "display_name": "Python 3 (ipykernel)",
   "language": "python",
   "name": "python3"
  },
  "language_info": {
   "codemirror_mode": {
    "name": "ipython",
    "version": 3
   },
   "file_extension": ".py",
   "mimetype": "text/x-python",
   "name": "python",
   "nbconvert_exporter": "python",
   "pygments_lexer": "ipython3",
   "version": "3.9.13"
  }
 },
 "nbformat": 4,
 "nbformat_minor": 5
}
